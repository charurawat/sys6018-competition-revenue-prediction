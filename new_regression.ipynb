{
 "cells": [
  {
   "cell_type": "code",
   "execution_count": 2,
   "metadata": {},
   "outputs": [],
   "source": [
    "import pandas as pd\n",
    "import numpy as np\n",
    "import json\n",
    "from pandas.io.json import json_normalize\n",
    "import os\n",
    "from IPython.display import display\n",
    "import random\n",
    "pd.options.display.max_columns = None\n",
    "\n",
    "test_obs = 401590\n",
    "train_obs = 1708338"
   ]
  },
  {
   "cell_type": "code",
   "execution_count": null,
   "metadata": {},
   "outputs": [],
   "source": [
    "%%time\n",
    "from ast import literal_eval\n",
    "\n",
    "def parse(csv_path='/Volumes/My Passport/Kaggle Competition/train_sample.csv', nrows=None):\n",
    "\n",
    "    JSON_COLUMNS = ['device', 'geoNetwork', 'totals', 'trafficSource']\n",
    "    \n",
    "    df = pd.read_csv(csv_path, \n",
    "                     converters={column: json.loads for column in JSON_COLUMNS}, \n",
    "                     dtype={'fullVisitorId': 'str'}, # Important!!\n",
    "                     nrows=nrows)\n",
    "    \n",
    "    df['hits']=df['hits'].apply(literal_eval)\n",
    "    df['hits']=df['hits'].str[0]\n",
    "    df=df[pd.notnull(df['hits'])]\n",
    "    \n",
    "    df['customDimensions']=df['customDimensions'].apply(literal_eval)\n",
    "    df['customDimensions']=df['customDimensions'].str[0]\n",
    "    df=df[pd.notnull(df['customDimensions'])]\n",
    "    \n",
    "    \n",
    "    JSON_COLUMNS = ['device', 'geoNetwork', 'totals', 'trafficSource','hits','customDimensions']\n",
    "    \n",
    "    for column in JSON_COLUMNS:\n",
    "        column_as_df = json_normalize(df[column])\n",
    "        column_as_df.columns = [f\"{column}.{subcolumn}\" for subcolumn in column_as_df.columns]\n",
    "        df = df.drop(column, axis=1).merge(column_as_df, right_index=True, left_index=True)\n",
    "    \n",
    "    return df\n",
    "    \n",
    "def load_data(nrows=None):\n",
    "    train_df = parse(nrows=nrows)\n",
    "    #test_df = parse(\"/Volumes/My Passport/Kaggle Competition/train_v2.csv\",nrows)\n",
    "    return train_df#,test_df\n",
    "\n",
    "df_train=load_data(nrows=10000)"
   ]
  },
  {
   "cell_type": "code",
   "execution_count": null,
   "metadata": {},
   "outputs": [],
   "source": [
    "df_train.shape"
   ]
  },
  {
   "cell_type": "code",
   "execution_count": null,
   "metadata": {},
   "outputs": [],
   "source": [
    "# make NANs as 0 and set all values as float\n",
    "#df_train['totals.transactionRevenue'] = df_train['totals.transactionRevenue'].astype(float)\n",
    "columns_to_float = ['visitNumber', 'totals.bounces', 'totals.sessionQualityDim', 'totals.hits', 'totals.newVisits', 'totals.pageviews','totals.timeOnSite','totals.totalTransactionRevenue', 'totals.transactionRevenue','totals.transactions','totals.visits']\n",
    "for column in columns_to_float:\n",
    "    df_train[column].fillna(0, inplace=True)\n",
    "    df_train[column] = df_train[column].astype(float)"
   ]
  },
  {
   "cell_type": "code",
   "execution_count": null,
   "metadata": {},
   "outputs": [],
   "source": [
    "#df_train['bought_something'] = df_train['totals.transactionRevenue'] > 0\n",
    "df_train['bought_something'] = df_train['totals.transactionRevenue'].apply(lambda x: 1 if x > 0 else 0)\n",
    "df_train['country_us'] = df_train['geoNetwork.country'].apply(lambda x: 1 if x == 'United States' else 0)"
   ]
  },
  {
   "cell_type": "code",
   "execution_count": null,
   "metadata": {},
   "outputs": [],
   "source": [
    "# Gather date/time data\n",
    "from datetime import datetime\n",
    "format_str = '%Y%m%d'\n",
    "df_train['formatted_date'] = df_train['date'].apply(lambda x: datetime.strptime(str(x), format_str))\n",
    "df_train['month'] = df_train['formatted_date'].apply(lambda x:x.month)\n",
    "df_train['weekday'] = df_train['formatted_date'].apply(lambda x:x.weekday()) #mon to sun; 0 to 6\n",
    "df_train['visitStartHour'] = df_train['visitStartTime'].apply(lambda x: str(datetime.fromtimestamp(x).hour))\n",
    "df_train.drop(['date','visitStartTime'], axis=1, inplace=True)\n"
   ]
  },
  {
   "cell_type": "code",
   "execution_count": null,
   "metadata": {},
   "outputs": [],
   "source": [
    "# group sources\n",
    "to_replace = [r'.*google.*',r'.*yahoo.*',r'.*\\.facebook.*',r'(\\.com)',r'(ml\\.)',r'(m\\.)',] #to group all google ,facebook types\n",
    "value = [r'google',r'yahoo',r'facebook',r'',r'',r'']\n",
    "df_train['trafficSource.source'] = df_train['trafficSource.source'].replace(to_replace, value, regex=True)"
   ]
  },
  {
   "cell_type": "code",
   "execution_count": null,
   "metadata": {},
   "outputs": [],
   "source": [
    "train_columns_to_keep = [\n",
    "    'visitNumber',\n",
    "    'device.isMobile',\n",
    "    'totals.bounces',\n",
    "    'totals.hits',\n",
    "    'totals.newVisits',\n",
    "    'totals.pageviews',\n",
    "    'totals.sessionQualityDim',\n",
    "    'totals.timeOnSite',\n",
    "    'totals.visits',\n",
    "    'trafficSource.medium',\n",
    "    'country_us',\n",
    "    'month',\n",
    "    'totals.transactions',\n",
    "    'totals.transactionRevenue',\n",
    "    'totals.totalTransactionRevenue',\n",
    "    'bought_something'\n",
    "]\n",
    "df_train_sub = df_train.filter(train_columns_to_keep , axis = 1)\n",
    "df_train_sub.head()"
   ]
  },
  {
   "cell_type": "code",
   "execution_count": null,
   "metadata": {},
   "outputs": [],
   "source": [
    "columns_to_dummies = [\n",
    "    'trafficSource.medium',\n",
    "]\n",
    "df_train_dum = pd.get_dummies(df_train_sub, columns = columns_to_dummies, drop_first=True)\n",
    "df_train_sub = df_train_dum.drop(['totals.transactions','totals.transactionRevenue','totals.totalTransactionRevenue','bought_something'],axis=1)\n",
    "df_train_response = df_train_dum.filter(['totals.transactions','totals.transactionRevenue','totals.totalTransactionRevenue','bought_something'])"
   ]
  },
  {
   "cell_type": "code",
   "execution_count": null,
   "metadata": {},
   "outputs": [],
   "source": [
    "bought_sub = df_train_dum[df_train_dum['bought_something'] == 1]\n",
    "bought_sub_response = bought_sub.filter(['totals.transactions','totals.transactionRevenue','totals.totalTransactionRevenue','bought_something'])\n",
    "bought_sub_regress = bought_sub.drop(['totals.transactions','totals.transactionRevenue','totals.totalTransactionRevenue','bought_something'],axis=1)"
   ]
  },
  {
   "cell_type": "code",
   "execution_count": 1,
   "metadata": {},
   "outputs": [],
   "source": [
    "#import sklearn.linear_model\n",
    "#log_reg = sklearn.linear_model.LogisticRegression()\n",
    "#fit = log_reg.fit(df_train_sub, df_train_response['bought_something'])\n",
    "from sklearn.ensemble import RandomForestClassifier\n",
    "from sklearn.datasets import make_classification\n",
    "\n",
    "#bought_predictions = fit.predict(df_train_sub)\n",
    "#df_train_sub['bought_predictions'] = pred_series.values"
   ]
  },
  {
   "cell_type": "code",
   "execution_count": null,
   "metadata": {},
   "outputs": [],
   "source": [
    "sum(df_train_sub['bought_predictions'])"
   ]
  },
  {
   "cell_type": "code",
   "execution_count": null,
   "metadata": {},
   "outputs": [],
   "source": [
    "from sklearn.linear_model import LinearRegression\n",
    "lin_fit = LinearRegression().fit(bought_sub_regress, bought_sub_response['totals.transactionRevenue'])"
   ]
  },
  {
   "cell_type": "code",
   "execution_count": null,
   "metadata": {},
   "outputs": [],
   "source": [
    "list_of_predictions = []\n",
    "for index, row in df_train_sub.iterrows():\n",
    "    if row['bought_predictions'] == 1:\n",
    "        list_of_values.append(lin_fit.predict([row[:-2]])[0])\n",
    "    else:\n",
    "        list_of_values.append(0)"
   ]
  },
  {
   "cell_type": "code",
   "execution_count": null,
   "metadata": {},
   "outputs": [],
   "source": []
  },
  {
   "cell_type": "code",
   "execution_count": null,
   "metadata": {},
   "outputs": [],
   "source": []
  }
 ],
 "metadata": {
  "kernelspec": {
   "display_name": "Python 3",
   "language": "python",
   "name": "python3"
  },
  "language_info": {
   "codemirror_mode": {
    "name": "ipython",
    "version": 3
   },
   "file_extension": ".py",
   "mimetype": "text/x-python",
   "name": "python",
   "nbconvert_exporter": "python",
   "pygments_lexer": "ipython3",
   "version": "3.6.5"
  }
 },
 "nbformat": 4,
 "nbformat_minor": 2
}
